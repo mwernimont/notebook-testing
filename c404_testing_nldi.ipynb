{
 "cells": [
  {
   "cell_type": "raw",
   "id": "abbb9f92",
   "metadata": {},
   "source": [
    "---\n",
    "name: GDPTools Conus404-daily Aggregation\n",
    "creator: Richard McDonald USGS IMPD\n",
    "title: 'GDPTools: Conus404-daily Aggregation'\n",
    "format:\n",
    "  html:\n",
    "    self-contained: true\n",
    "---"
   ]
  },
  {
   "cell_type": "markdown",
   "id": "2bf32f09",
   "metadata": {},
   "source": [
    "This notebook demonstrates the use of [GDPTools](https://gdptools.readthedocs.io/en/develop/index.html) for spatially interpolating (Aggregation) Conus404 data to a set of HUC12s in the Delaware River Basin.\n",
    "\n",
    "## Summary\n",
    "This use-case demonstrates a common spatial interpolation pattern in hydrologic sciences.  Interpolating gridded data, in this case the Conus404 dataset, to Polygons representing basins, such as HUC12s.  GDPTools is a pyhton package for Geospatial Interpolation, developed by the USGS NHGF project.  We use GDPTools to generate a weights file for area-weighted spatial interpolation, interpolating the time-dependend gridded data to the HUC12s. The [Conus404](https://www.sciencebase.gov/catalog/item/6372cd09d34ed907bf6c6ab1) data release describes Conus404 as \"... a unique, high-resolution hydro-climate dataset appropriate for forcing hydrological models and conducting meteorological analysis over the contiguous United States\".  This use-case uses the HyTest intake catalog which provides a convenient method to access the Conus404 data.  \n",
    "\n",
    "## Open Source python Tools\n",
    "- gdptools: GeoDataProcessing Tools (GDPTools) is a python package for geospatial interpolation\n",
    "- [HyTest intake catalog](https://github.com/hytest-org/hytest/tree/main/dataset_catalog)\n",
    "- [NHGF data service]( https://labs.waterdata.ugsgs.gov) clients:\n",
    "  - We use the collection of [HyRiver](https://docs.hyriver.io/examples/notebooks/nhdplus.html) Packages for accessing a set of HUC12 polygons in the Delaware River Basin programatically using the [NLDI](https://docs.hyriver.io/readme/pynhd.html) and [WaterData](https://docs.hyriver.io/readme/pynhd.html)\n",
    "\n",
    "## Imports\n"
   ]
  },
  {
   "cell_type": "code",
   "execution_count": 3,
   "id": "80f2de21",
   "metadata": {
    "vscode": {
     "languageId": "python"
    }
   },
   "outputs": [
    {
     "ename": "ModuleNotFoundError",
     "evalue": "No module named 'xarray'",
     "output_type": "error",
     "traceback": [
      "\u001b[0;31m---------------------------------------------------------------------------\u001b[0m",
      "\u001b[0;31mModuleNotFoundError\u001b[0m                       Traceback (most recent call last)",
      "Cell \u001b[0;32mIn[3], line 2\u001b[0m\n\u001b[1;32m      1\u001b[0m \u001b[38;5;66;03m# Common python packages\u001b[39;00m\n\u001b[0;32m----> 2\u001b[0m \u001b[38;5;28;01mimport\u001b[39;00m \u001b[38;5;21;01mxarray\u001b[39;00m \u001b[38;5;28;01mas\u001b[39;00m \u001b[38;5;21;01mxr\u001b[39;00m\n\u001b[1;32m      3\u001b[0m \u001b[38;5;28;01mimport\u001b[39;00m \u001b[38;5;21;01mhvplot\u001b[39;00m\u001b[38;5;21;01m.\u001b[39;00m\u001b[38;5;21;01mxarray\u001b[39;00m\n\u001b[1;32m      4\u001b[0m \u001b[38;5;28;01mimport\u001b[39;00m \u001b[38;5;21;01mhvplot\u001b[39;00m\u001b[38;5;21;01m.\u001b[39;00m\u001b[38;5;21;01mpandas\u001b[39;00m\n",
      "\u001b[0;31mModuleNotFoundError\u001b[0m: No module named 'xarray'"
     ]
    }
   ],
   "source": [
    "# Common python packages\n",
    "import xarray as xr\n",
    "import hvplot.xarray\n",
    "import hvplot.pandas\n",
    "import hvplot.dask\n",
    "import intake\n",
    "import warnings\n",
    "import intake_xarray\n",
    "import datetime\n",
    "import holoviews as hv\n",
    "import numpy as np\n",
    "import pandas as pd\n",
    "import geopandas as gpd\n",
    "\n",
    "# HyRiver packages\n",
    "from pynhd import NLDI, WaterData\n",
    "\n",
    "# GDPTools packages\n",
    "from gdptools import AggGen, UserCatData, WeightGen\n",
    "\n",
    "\n",
    "hv.extension(\"bokeh\")\n",
    "warnings.filterwarnings('ignore')"
   ]
  },
  {
   "cell_type": "markdown",
   "id": "7b637bbd",
   "metadata": {},
   "source": [
    "## GDPTools version\n",
    "Note this use-case is currently using the following version of GDPTools.  GDPTools is in an active state of development, and if the viewer of this use-case would like to use GDPTools for their work, it would be worth checking if you have the most up-to-date version.\n"
   ]
  },
  {
   "cell_type": "code",
   "execution_count": 1,
   "id": "aedd0931",
   "metadata": {
    "vscode": {
     "languageId": "python"
    }
   },
   "outputs": [
    {
     "name": "stdout",
     "output_type": "stream",
     "text": [
      "/bin/sh: conda: command not found\n"
     ]
    }
   ],
   "source": [
    "!conda list gdptools"
   ]
  },
  {
   "cell_type": "markdown",
   "id": "1121534f",
   "metadata": {},
   "source": [
    "## HyRiver Packages\n",
    "Here we use two HyRiver clients, `NLDI` and `WaterData1` to:\n",
    "- Define the upstream basin at a USGS gage towards the downstream reach of the Delaware River\n",
    "- Use the basin geometry to extract HUC21s within the geometry.\n"
   ]
  },
  {
   "cell_type": "code",
   "execution_count": 2,
   "id": "f0588879",
   "metadata": {
    "vscode": {
     "languageId": "python"
    }
   },
   "outputs": [
    {
     "ename": "NameError",
     "evalue": "name 'NLDI' is not defined",
     "output_type": "error",
     "traceback": [
      "\u001b[0;31m---------------------------------------------------------------------------\u001b[0m",
      "\u001b[0;31mNameError\u001b[0m                                 Traceback (most recent call last)",
      "Cell \u001b[0;32mIn[2], line 3\u001b[0m\n\u001b[1;32m      1\u001b[0m \u001b[38;5;66;03m# USGS gage 01482100 Delaware River at Del Mem Bridge at Wilmington De\u001b[39;00m\n\u001b[1;32m      2\u001b[0m gage_id \u001b[38;5;241m=\u001b[39m \u001b[38;5;124m'\u001b[39m\u001b[38;5;124m01482100\u001b[39m\u001b[38;5;124m'\u001b[39m\n\u001b[0;32m----> 3\u001b[0m nldi \u001b[38;5;241m=\u001b[39m \u001b[43mNLDI\u001b[49m()\n\u001b[1;32m      4\u001b[0m del_basins \u001b[38;5;241m=\u001b[39m nldi\u001b[38;5;241m.\u001b[39mget_basins(gage_id)\n\u001b[1;32m      5\u001b[0m huc12_basins \u001b[38;5;241m=\u001b[39m WaterData(\u001b[38;5;124m'\u001b[39m\u001b[38;5;124mhuc12\u001b[39m\u001b[38;5;124m'\u001b[39m)\u001b[38;5;241m.\u001b[39mbygeom(del_basins\u001b[38;5;241m.\u001b[39mgeometry[\u001b[38;5;241m0\u001b[39m])\n",
      "\u001b[0;31mNameError\u001b[0m: name 'NLDI' is not defined"
     ]
    }
   ],
   "source": [
    "# USGS gage 01482100 Delaware River at Del Mem Bridge at Wilmington De\n",
    "gage_id = '01482100'\n",
    "nldi = NLDI()\n",
    "del_basins = nldi.get_basins(gage_id)\n",
    "huc12_basins = WaterData('huc12').bygeom(del_basins.geometry[0])"
   ]
  },
  {
   "cell_type": "markdown",
   "id": "1f5892d1",
   "metadata": {},
   "source": [
    "### View the content of the resulting GeoDataFrame\n"
   ]
  },
  {
   "cell_type": "code",
   "execution_count": null,
   "id": "7c732637",
   "metadata": {
    "vscode": {
     "languageId": "python"
    }
   },
   "outputs": [],
   "source": [
    "huc12_basins.head()"
   ]
  },
  {
   "cell_type": "markdown",
   "id": "dc2e4bcd",
   "metadata": {},
   "source": [
    "### Note the crs associate with the GeoDataFrame\n",
    "This value will be used later.\n"
   ]
  },
  {
   "cell_type": "code",
   "execution_count": null,
   "id": "2a5f2db3",
   "metadata": {
    "vscode": {
     "languageId": "python"
    }
   },
   "outputs": [],
   "source": [
    "huc12_basins.crs"
   ]
  },
  {
   "cell_type": "markdown",
   "id": "2ac9c3d8",
   "metadata": {},
   "source": [
    "### Reduce the context of the GeoDataFrame to only the columns necessary for the analysis\n",
    "GDPTools requires only the column used to identify the basins and the geometry.  To reduce the memory overhead of the calculations below, it's a good practice to remove unneccessary columns.  First we list the columns and then we keep only `huc12` and `geometry`.  \n"
   ]
  },
  {
   "cell_type": "code",
   "execution_count": null,
   "id": "c3cf3b43",
   "metadata": {
    "vscode": {
     "languageId": "python"
    }
   },
   "outputs": [],
   "source": [
    "print(huc12_basins.columns)\n",
    "working_gdf = huc12_basins[[\"huc12\", \"geometry\"]]"
   ]
  },
  {
   "cell_type": "markdown",
   "id": "47b082a3",
   "metadata": {},
   "source": [
    "# Plot the resulting GeoDataFrame\n"
   ]
  },
  {
   "cell_type": "code",
   "execution_count": null,
   "id": "510453b8",
   "metadata": {
    "vscode": {
     "languageId": "python"
    }
   },
   "outputs": [],
   "source": [
    "from holoviews.element.tiles import OSM\n",
    "drb = working_gdf.hvplot(\n",
    "    geo=True, coastline='50m', alpha=0.2,  frame_width=300,\n",
    "    xlabel=\"longitude\", ylabel=\"latitude\", clabel=\"monthly water evaporation (mm)\",\n",
    "    title=\"Delaware River HUC12 basins\", xlim=(-76.8, -73.8), aspect='equal'\n",
    ")\n",
    "OSM() * drb"
   ]
  },
  {
   "cell_type": "markdown",
   "id": "047bf018",
   "metadata": {},
   "source": [
    "## HyTest Intake Catalog and Conus404\n",
    "Further examples of using the HyTest catalog can be found [here](https://github.com/hytest-org/hytest/tree/main/dataset_catalog).  In the following cells we step into the catalog to retrieve the `conus404-daily-osn`.  The data with \"-osn\" extensions can be accessed without authentication.\n",
    "\n",
    "### Open the catalog\n"
   ]
  },
  {
   "cell_type": "code",
   "execution_count": null,
   "id": "038bc4a5",
   "metadata": {
    "vscode": {
     "languageId": "python"
    }
   },
   "outputs": [],
   "source": [
    "# open the hytest data intake catalog\n",
    "hytest_cat = intake.open_catalog(\"https://raw.githubusercontent.com/hytest-org/hytest/main/dataset_catalog/hytest_intake_catalog.yml\")\n",
    "list(hytest_cat)"
   ]
  },
  {
   "cell_type": "markdown",
   "id": "34668305",
   "metadata": {},
   "source": [
    "### Open the conus404 catalog\n"
   ]
  },
  {
   "cell_type": "code",
   "execution_count": null,
   "id": "3c13a5ef",
   "metadata": {
    "vscode": {
     "languageId": "python"
    }
   },
   "outputs": [],
   "source": [
    "# open the conus404 sub-catalog\n",
    "cat = hytest_cat['conus404-catalog']\n",
    "list(cat)"
   ]
  },
  {
   "cell_type": "markdown",
   "id": "6d6d59c1",
   "metadata": {},
   "source": [
    "### Open the daily data\n"
   ]
  },
  {
   "cell_type": "code",
   "execution_count": null,
   "id": "f7473dba",
   "metadata": {
    "vscode": {
     "languageId": "python"
    }
   },
   "outputs": [],
   "source": [
    "## Select the dataset you want to read into your notebook and preview its metadata\n",
    "dataset = 'conus404-daily-osn' \n",
    "cat[dataset]"
   ]
  },
  {
   "cell_type": "markdown",
   "id": "dc3a245d",
   "metadata": {},
   "source": [
    "## Load conus404 daily\n"
   ]
  },
  {
   "cell_type": "code",
   "execution_count": null,
   "id": "07ae0bbe",
   "metadata": {
    "vscode": {
     "languageId": "python"
    }
   },
   "outputs": [],
   "source": [
    "print(f\"Reading {dataset} metadata...\", end='')\n",
    "ds = cat[dataset].to_dask().metpy.parse_cf()\n",
    "print(\"done\")"
   ]
  },
  {
   "cell_type": "markdown",
   "id": "cc15680f",
   "metadata": {},
   "source": [
    "### View the xarray representation\n"
   ]
  },
  {
   "cell_type": "code",
   "execution_count": null,
   "id": "6fb10b96",
   "metadata": {
    "vscode": {
     "languageId": "python"
    }
   },
   "outputs": [],
   "source": [
    "ds"
   ]
  },
  {
   "cell_type": "markdown",
   "id": "c41f6225",
   "metadata": {},
   "source": [
    "### Conus404 projection\n"
   ]
  },
  {
   "cell_type": "code",
   "execution_count": null,
   "id": "f3b8ec3f",
   "metadata": {
    "vscode": {
     "languageId": "python"
    }
   },
   "outputs": [],
   "source": [
    "c404_proj = \"+proj=lcc +lat_0=39.1000061035156 +lon_0=-97.9000015258789 +lat_1=30 +lat_2=50 +x_0=0 +y_0=0 +R=6370000 +units=m +no_defs\""
   ]
  },
  {
   "cell_type": "markdown",
   "id": "89db851d",
   "metadata": {},
   "source": [
    "## GDPTools\n",
    "In the following cells GDPtools if first used to generate a weighting file used for area-weighted statistics and secondly to apply the weighting file to interpolate the Conus404 gridded data to each of the HUC12 polygons using an area-weighted mean.  GDPTools has a number of data classes to parameterize the input data, which can be though of as the source and target data with some accompanying attributes of each.  In this case we use the `UserCatData` class.\n",
    "\n",
    "Source Data:\n",
    "- ds: Xarray dataset\n",
    "- x_coord: Name of x-coordinate\n",
    "- y_cord: Name of y-coordinate\n",
    "- t_coord: Name of t-coordinate\n",
    "- proj_ds: The source data's projection.  This can be anything that can by read by [pyproj.crs.CRS.from_user_input()](https://pyproj4.github.io/pyproj/stable/api/crs/crs.html#pyproj.crs.CRS.from_user_input) method.\n",
    "- var: List of variables in the xarray dataset that will be processed.\n",
    "\n",
    "Target Data:\n",
    "- f_feature: The GeoDataFrame - In this case `working_gdf` define above.\n",
    "- proj_feature: Similar to proj_ds above but for the Target GeoDataFrame.\n",
    "- id_feature: The column heading of the feature used to identify the target for the interpolation - In this case \"huc12\"\n",
    "\n",
    "Period:\n",
    "The period of interest.  This is where things can go sideways.  It's always a good strategy to start with a small slice of data and work up.  For large Target datasets, for example HUC12s for all of CONUS, you would quickly run out of memory if processing more that a year at a time.  Also some servers have a limit on the size of the data requested.  In this case we have a small example - so it's no issue.\n"
   ]
  },
  {
   "cell_type": "code",
   "execution_count": null,
   "id": "97f2c16b",
   "metadata": {
    "vscode": {
     "languageId": "python"
    }
   },
   "outputs": [],
   "source": [
    "data_crs = c404_proj\n",
    "x_coord = \"x\"\n",
    "y_coord = \"y\"\n",
    "t_coord = \"time\"\n",
    "sdate = \"1979-10-01T00:00:00.000000000\"\n",
    "edate = \"1979-10-07T00:00:00.000000000\"\n",
    "var = [\"T2\", \"ACRAINLSM\"]\n",
    "shp_crs = 4326\n",
    "shp_poly_idx = \"huc12\"\n",
    "wght_gen_crs = 6931\n",
    "\n",
    "user_data = UserCatData(\n",
    "    ds=ds,\n",
    "    proj_ds=data_crs,\n",
    "    x_coord=x_coord,\n",
    "    y_coord=y_coord,\n",
    "    t_coord=t_coord,\n",
    "    var=var,\n",
    "    f_feature=working_gdf,\n",
    "    proj_feature=shp_crs,\n",
    "    id_feature=shp_poly_idx,\n",
    "    period=[sdate, edate],\n",
    ")"
   ]
  },
  {
   "cell_type": "markdown",
   "id": "b365b806",
   "metadata": {},
   "source": [
    "### Generate the weights\n",
    "Generate the weights and save to a file for later use.\n"
   ]
  },
  {
   "cell_type": "code",
   "execution_count": null,
   "id": "63b9dbb6",
   "metadata": {
    "vscode": {
     "languageId": "python"
    }
   },
   "outputs": [],
   "source": [
    "genwghts = True\n",
    "wght_gen = WeightGen(\n",
    "    user_data=user_data,\n",
    "    method=\"serial\",\n",
    "    output_file=\"wghts_drb_ser_c404daily.csv\",\n",
    "    weight_gen_crs=6931\n",
    ")\n",
    "\n",
    "if genwghts:\n",
    "    wdf = wght_gen.calculate_weights()"
   ]
  },
  {
   "cell_type": "markdown",
   "id": "ac6bb26e",
   "metadata": {},
   "source": [
    "### Aggregate the data using the weights generated above.\n"
   ]
  },
  {
   "cell_type": "code",
   "execution_count": null,
   "id": "a87b14df",
   "metadata": {
    "vscode": {
     "languageId": "python"
    }
   },
   "outputs": [],
   "source": [
    "agg_gen = AggGen(\n",
    "    user_data=user_data,\n",
    "    stat_method=\"masked_mean\",\n",
    "    agg_engine=\"serial\",\n",
    "    agg_writer=\"netcdf\",\n",
    "    weights='wghts_drb_ser_c404daily.csv',\n",
    "    out_path='.',\n",
    "    file_prefix=\"testing_p\"\n",
    ")\n",
    "ngdf, ds_out = agg_gen.calculate_agg()"
   ]
  },
  {
   "cell_type": "markdown",
   "id": "f57ff4d8",
   "metadata": {},
   "source": [
    "## Generate a plot of the resulting interpolatoin\n"
   ]
  },
  {
   "cell_type": "code",
   "execution_count": null,
   "id": "63f6d801",
   "metadata": {
    "vscode": {
     "languageId": "python"
    }
   },
   "outputs": [],
   "source": [
    "aggdata = agg_gen.agg_data.get('T2').da\n",
    "aggdata"
   ]
  },
  {
   "cell_type": "code",
   "execution_count": null,
   "id": "54acb70a",
   "metadata": {
    "vscode": {
     "languageId": "python"
    }
   },
   "outputs": [],
   "source": [
    "wvar = 'T2'\n",
    "time_step = \"1979-10-03T00:00:00.000000000\""
   ]
  },
  {
   "cell_type": "code",
   "execution_count": null,
   "id": "a9a9d6fd",
   "metadata": {
    "vscode": {
     "languageId": "python"
    }
   },
   "outputs": [],
   "source": [
    "vmin = np.nanmin(aggdata.sel(time=time_step).values)\n",
    "vmax = np.nanmax(aggdata.sel(time=time_step).values)\n",
    "print(vmin, vmax)"
   ]
  },
  {
   "cell_type": "code",
   "execution_count": null,
   "id": "3098cd09",
   "metadata": {
    "vscode": {
     "languageId": "python"
    }
   },
   "outputs": [],
   "source": [
    "ngdf['T2'] = ds_out[wvar].sel(time=time_step)\n",
    "c404_agg = ngdf.to_crs(4326).hvplot(\n",
    "    c='T2', geo=True, coastline='50m', frame_width=300, alpha=1, cmap='viridis', clim=(vmin, vmax),\n",
    "    xlabel=\"longitude\", ylabel=\"latitude\", clabel=\"monthly water evaporation (mm)\", xlim=(-76.8, -73.8),\n",
    "    title=\"DRB HUC12 area-weighted average\", aspect='equal'\n",
    ")\n",
    "c404_raw = aggdata.sel(time=time_step).hvplot.quadmesh(\n",
    "    'lon', 'lat', 'T2', cmap='viridis', alpha=1, grid=True, geo=True, coastline='50m', frame_width=300, clim=(vmin,vmax),\n",
    "    xlabel=\"longitude\", ylabel=\"latitude\", clabel=\"monthly water evaporation (mm)\", xlim=(-76.8, -73.8),\n",
    "    title=\"TerraClimate Monthly AET\", aspect='equal'\n",
    ")"
   ]
  },
  {
   "cell_type": "code",
   "execution_count": null,
   "id": "64553785",
   "metadata": {
    "vscode": {
     "languageId": "python"
    }
   },
   "outputs": [],
   "source": [
    "c404_raw + c404_agg"
   ]
  }
 ],
 "metadata": {
  "kernelspec": {
   "display_name": "Python 3 (ipykernel)",
   "language": "python",
   "name": "python3"
  },
  "language_info": {
   "codemirror_mode": {
    "name": "ipython",
    "version": 3
   },
   "file_extension": ".py",
   "mimetype": "text/x-python",
   "name": "python",
   "nbconvert_exporter": "python",
   "pygments_lexer": "ipython3",
   "version": "3.12.2"
  }
 },
 "nbformat": 4,
 "nbformat_minor": 5
}
